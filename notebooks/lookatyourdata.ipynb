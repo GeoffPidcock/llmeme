{
 "cells": [
  {
   "cell_type": "markdown",
   "metadata": {},
   "source": [
    "# first look at user data"
   ]
  },
  {
   "cell_type": "code",
   "execution_count": 3,
   "metadata": {},
   "outputs": [],
   "source": [
    "# setup\n",
    "import os\n",
    "import pandas as pd\n",
    "from sqlalchemy import create_engine\n",
    "from datetime import datetime\n",
    "from dotenv import load_dotenv\n",
    "\n",
    "# Load environment variables from both .env and shell\n",
    "load_dotenv()  # This adds .env variables to os.environ\n",
    "\n",
    "def create_engine_with_params(db_params: dict) -> create_engine:\n",
    "    \"\"\"Create SQLAlchemy engine using database parameters.\"\"\"\n",
    "    url = f\"postgresql://{db_params['user']}:{db_params['password']}@{db_params['host']}:{db_params['port']}/{db_params['dbname']}\"\n",
    "    return create_engine(url)\n",
    "\n",
    "db_params = {\n",
    "    \"dbname\": \"postgres\", \n",
    "    \"user\": os.getenv(\"DB_USER\"),\n",
    "    \"password\": os.getenv(\"DB_PASSWORD\"),\n",
    "    \"host\": os.getenv(\"DB_HOST\"),\n",
    "    \"port\": \"5432\"  # Default port for PostgreSQL\n",
    "}\n",
    "\n",
    "engine = create_engine_with_params(db_params)"
   ]
  },
  {
   "cell_type": "code",
   "execution_count": 4,
   "metadata": {},
   "outputs": [
    {
     "data": {
      "text/html": [
       "<div>\n",
       "<style scoped>\n",
       "    .dataframe tbody tr th:only-of-type {\n",
       "        vertical-align: middle;\n",
       "    }\n",
       "\n",
       "    .dataframe tbody tr th {\n",
       "        vertical-align: top;\n",
       "    }\n",
       "\n",
       "    .dataframe thead th {\n",
       "        text-align: right;\n",
       "    }\n",
       "</style>\n",
       "<table border=\"1\" class=\"dataframe\">\n",
       "  <thead>\n",
       "    <tr style=\"text-align: right;\">\n",
       "      <th></th>\n",
       "      <th>event_id</th>\n",
       "      <th>timestamp</th>\n",
       "      <th>session_id</th>\n",
       "      <th>type</th>\n",
       "      <th>data</th>\n",
       "      <th>metadata</th>\n",
       "    </tr>\n",
       "  </thead>\n",
       "  <tbody>\n",
       "    <tr>\n",
       "      <th>71</th>\n",
       "      <td>47c8ae19-e931-4eb1-9975-a0b256ff87da</td>\n",
       "      <td>2025-01-30 07:01:57.673085+00:00</td>\n",
       "      <td>ad740480-2ea6-464f-a8dc-f235fd8771f7</td>\n",
       "      <td>meme_created</td>\n",
       "      <td>{'prompt': 'Toddler is not impressed with this...</td>\n",
       "      <td>{'environment': 'development', 'timestamp_utc'...</td>\n",
       "    </tr>\n",
       "    <tr>\n",
       "      <th>70</th>\n",
       "      <td>1c61a7ba-7b94-435d-af16-4ec7e548d0ca</td>\n",
       "      <td>2025-01-30 07:01:36.183643+00:00</td>\n",
       "      <td>ad740480-2ea6-464f-a8dc-f235fd8771f7</td>\n",
       "      <td>meme_created</td>\n",
       "      <td>{'prompt': 'Toddler is not impressed with this...</td>\n",
       "      <td>{'environment': 'development', 'timestamp_utc'...</td>\n",
       "    </tr>\n",
       "    <tr>\n",
       "      <th>69</th>\n",
       "      <td>78b6ee9c-7cc4-4a4d-965e-50d1538bc72d</td>\n",
       "      <td>2025-01-30 07:01:12.527844+00:00</td>\n",
       "      <td>ad740480-2ea6-464f-a8dc-f235fd8771f7</td>\n",
       "      <td>meme_created</td>\n",
       "      <td>{'prompt': 'Toddler is not impressed with this...</td>\n",
       "      <td>{'environment': 'development', 'timestamp_utc'...</td>\n",
       "    </tr>\n",
       "    <tr>\n",
       "      <th>68</th>\n",
       "      <td>20807149-682b-4ff6-add7-f4f0cc7f039f</td>\n",
       "      <td>2025-01-30 07:01:02.015821+00:00</td>\n",
       "      <td>ad740480-2ea6-464f-a8dc-f235fd8771f7</td>\n",
       "      <td>meme_created</td>\n",
       "      <td>{'prompt': 'Toddler is not impressed with this...</td>\n",
       "      <td>{'environment': 'development', 'timestamp_utc'...</td>\n",
       "    </tr>\n",
       "    <tr>\n",
       "      <th>67</th>\n",
       "      <td>08a4f448-b127-4588-9e6e-43fd80022d7e</td>\n",
       "      <td>2025-01-30 07:00:56.291250+00:00</td>\n",
       "      <td>ad740480-2ea6-464f-a8dc-f235fd8771f7</td>\n",
       "      <td>meme_created</td>\n",
       "      <td>{'prompt': 'Toddler is not impressed with this...</td>\n",
       "      <td>{'environment': 'development', 'timestamp_utc'...</td>\n",
       "    </tr>\n",
       "  </tbody>\n",
       "</table>\n",
       "</div>"
      ],
      "text/plain": [
       "                                event_id                        timestamp  \\\n",
       "71  47c8ae19-e931-4eb1-9975-a0b256ff87da 2025-01-30 07:01:57.673085+00:00   \n",
       "70  1c61a7ba-7b94-435d-af16-4ec7e548d0ca 2025-01-30 07:01:36.183643+00:00   \n",
       "69  78b6ee9c-7cc4-4a4d-965e-50d1538bc72d 2025-01-30 07:01:12.527844+00:00   \n",
       "68  20807149-682b-4ff6-add7-f4f0cc7f039f 2025-01-30 07:01:02.015821+00:00   \n",
       "67  08a4f448-b127-4588-9e6e-43fd80022d7e 2025-01-30 07:00:56.291250+00:00   \n",
       "\n",
       "                              session_id          type  \\\n",
       "71  ad740480-2ea6-464f-a8dc-f235fd8771f7  meme_created   \n",
       "70  ad740480-2ea6-464f-a8dc-f235fd8771f7  meme_created   \n",
       "69  ad740480-2ea6-464f-a8dc-f235fd8771f7  meme_created   \n",
       "68  ad740480-2ea6-464f-a8dc-f235fd8771f7  meme_created   \n",
       "67  ad740480-2ea6-464f-a8dc-f235fd8771f7  meme_created   \n",
       "\n",
       "                                                 data  \\\n",
       "71  {'prompt': 'Toddler is not impressed with this...   \n",
       "70  {'prompt': 'Toddler is not impressed with this...   \n",
       "69  {'prompt': 'Toddler is not impressed with this...   \n",
       "68  {'prompt': 'Toddler is not impressed with this...   \n",
       "67  {'prompt': 'Toddler is not impressed with this...   \n",
       "\n",
       "                                             metadata  \n",
       "71  {'environment': 'development', 'timestamp_utc'...  \n",
       "70  {'environment': 'development', 'timestamp_utc'...  \n",
       "69  {'environment': 'development', 'timestamp_utc'...  \n",
       "68  {'environment': 'development', 'timestamp_utc'...  \n",
       "67  {'environment': 'development', 'timestamp_utc'...  "
      ]
     },
     "execution_count": 4,
     "metadata": {},
     "output_type": "execute_result"
    }
   ],
   "source": [
    "# recent records\n",
    "df = pd.read_sql_query(\"SELECT * FROM events\", con=engine)\n",
    "df.sort_values(by=\"timestamp\", ascending=False).head()"
   ]
  },
  {
   "cell_type": "code",
   "execution_count": 6,
   "metadata": {},
   "outputs": [
    {
     "data": {
      "text/plain": [
       "type\n",
       "meme_created       45\n",
       "error              14\n",
       "llm_response        5\n",
       "meme_liked          3\n",
       "test_event          2\n",
       "meme_downloaded     2\n",
       "startup             1\n",
       "Name: count, dtype: int64"
      ]
     },
     "execution_count": 6,
     "metadata": {},
     "output_type": "execute_result"
    }
   ],
   "source": [
    "# logs can get better - i.e. differentiate first try from retries; encourage meme liked\n",
    "df.type.value_counts()"
   ]
  },
  {
   "cell_type": "code",
   "execution_count": 13,
   "metadata": {},
   "outputs": [
    {
     "data": {
      "text/plain": [
       "{'prompt': 'Help me express the stress of trying to get a live demo working in very little time.',\n",
       " 'image_url': 'https://i.imgflip.com/9iewoc.jpg',\n",
       " 'template_id': '181913649'}"
      ]
     },
     "execution_count": 13,
     "metadata": {},
     "output_type": "execute_result"
    }
   ],
   "source": [
    "# we want to fix these logs such that we see what the api payload is - so we quickly know the captions\n",
    "# might also make sense to add a \"reasoning\" field to the LLM output\n",
    "df[df['data'].apply(lambda x: 'prompt' in x)]['data'].iloc[5]"
   ]
  },
  {
   "cell_type": "code",
   "execution_count": 15,
   "metadata": {},
   "outputs": [
    {
     "data": {
      "text/html": [
       "<div>\n",
       "<style scoped>\n",
       "    .dataframe tbody tr th:only-of-type {\n",
       "        vertical-align: middle;\n",
       "    }\n",
       "\n",
       "    .dataframe tbody tr th {\n",
       "        vertical-align: top;\n",
       "    }\n",
       "\n",
       "    .dataframe thead th {\n",
       "        text-align: right;\n",
       "    }\n",
       "</style>\n",
       "<table border=\"1\" class=\"dataframe\">\n",
       "  <thead>\n",
       "    <tr style=\"text-align: right;\">\n",
       "      <th></th>\n",
       "      <th>prompt</th>\n",
       "      <th>image_url</th>\n",
       "      <th>template_id</th>\n",
       "    </tr>\n",
       "  </thead>\n",
       "  <tbody>\n",
       "    <tr>\n",
       "      <th>14</th>\n",
       "      <td>Help me express the stress of trying to get a ...</td>\n",
       "      <td>https://i.imgflip.com/9iewoc.jpg</td>\n",
       "      <td>181913649</td>\n",
       "    </tr>\n",
       "    <tr>\n",
       "      <th>16</th>\n",
       "      <td>Help me express the stress of trying to get a ...</td>\n",
       "      <td>https://i.imgflip.com/9iewvf.jpg</td>\n",
       "      <td>181913649</td>\n",
       "    </tr>\n",
       "    <tr>\n",
       "      <th>17</th>\n",
       "      <td>Help me express the stress of trying to get a ...</td>\n",
       "      <td>https://i.imgflip.com/9iewwc.jpg</td>\n",
       "      <td>181913649</td>\n",
       "    </tr>\n",
       "    <tr>\n",
       "      <th>18</th>\n",
       "      <td>Help me express the stress of trying to get a ...</td>\n",
       "      <td>https://i.imgflip.com/9iewwn.jpg</td>\n",
       "      <td>181913649</td>\n",
       "    </tr>\n",
       "    <tr>\n",
       "      <th>20</th>\n",
       "      <td>I am trying to create a funny meme using AI an...</td>\n",
       "      <td>https://i.imgflip.com/9iexgl.jpg</td>\n",
       "      <td>181913649</td>\n",
       "    </tr>\n",
       "  </tbody>\n",
       "</table>\n",
       "</div>"
      ],
      "text/plain": [
       "                                               prompt  \\\n",
       "14  Help me express the stress of trying to get a ...   \n",
       "16  Help me express the stress of trying to get a ...   \n",
       "17  Help me express the stress of trying to get a ...   \n",
       "18  Help me express the stress of trying to get a ...   \n",
       "20  I am trying to create a funny meme using AI an...   \n",
       "\n",
       "                           image_url template_id  \n",
       "14  https://i.imgflip.com/9iewoc.jpg   181913649  \n",
       "16  https://i.imgflip.com/9iewvf.jpg   181913649  \n",
       "17  https://i.imgflip.com/9iewwc.jpg   181913649  \n",
       "18  https://i.imgflip.com/9iewwn.jpg   181913649  \n",
       "20  https://i.imgflip.com/9iexgl.jpg   181913649  "
      ]
     },
     "execution_count": 15,
     "metadata": {},
     "output_type": "execute_result"
    }
   ],
   "source": [
    "# First filter for rows with prompts, then extract the desired fields\n",
    "meme_details = df['data'].apply(pd.Series)[['prompt', 'image_url', 'template_id']]\n",
    "\n",
    "# Some rows might not have image_url or template_id (like error cases)\n",
    "# so let's filter to only successful meme creations\n",
    "created_memes = meme_details.dropna()\n",
    "\n",
    "# Display the results\n",
    "created_memes.head()"
   ]
  },
  {
   "cell_type": "code",
   "execution_count": 18,
   "metadata": {},
   "outputs": [],
   "source": [
    "# let's explore and annoted this first set using excel\n",
    "# goal is to create a set of 20-30 example prompts that we can use to evaluate the model\n",
    "# we can also annotate and some statistics like \"is_drake\" - but also off_optic, and with more insight to payload, is_json, is_complete \n",
    "created_memes.to_excel(\"../data/evals/created_memes.xlsx\",sheet_name=\"raw_data\")"
   ]
  },
  {
   "cell_type": "markdown",
   "metadata": {},
   "source": [
    "# Creating tests"
   ]
  },
  {
   "cell_type": "code",
   "execution_count": null,
   "metadata": {},
   "outputs": [],
   "source": []
  },
  {
   "cell_type": "markdown",
   "metadata": {},
   "source": [
    "# Debugging errors\n",
    "Helped picked up JSON errors"
   ]
  },
  {
   "cell_type": "code",
   "execution_count": 15,
   "metadata": {},
   "outputs": [
    {
     "data": {
      "text/plain": [
       "{'prompt': 'I am trying to demo this app and it is quite flaky i.e. errors quite often',\n",
       " 'error_type': 'RuntimeError',\n",
       " 'error_message': 'Failed after 10 attempts. Last error: Attempt 10 failed: Expecting value: line 1 column 1 (char 0)'}"
      ]
     },
     "execution_count": 15,
     "metadata": {},
     "output_type": "execute_result"
    }
   ],
   "source": [
    "\n",
    "df.sort_values(by=\"timestamp\", ascending=False).head().iloc[0]['data']"
   ]
  },
  {
   "cell_type": "code",
   "execution_count": 6,
   "metadata": {},
   "outputs": [
    {
     "data": {
      "text/plain": [
       "event_id                   d17555ad-f8e0-4759-b920-38878f323357\n",
       "timestamp                      2025-01-30 02:05:21.262870+00:00\n",
       "session_id                 fca15b75-dca1-4cad-9dba-78dbd15e34e3\n",
       "type                                                      error\n",
       "data          {'prompt': 'I want to make a funny meme and am...\n",
       "metadata      {'environment': 'development', 'timestamp_utc'...\n",
       "Name: 34, dtype: object"
      ]
     },
     "execution_count": 6,
     "metadata": {},
     "output_type": "execute_result"
    }
   ],
   "source": [
    "df.sort_values(by=\"timestamp\", ascending=False).head(10).iloc[5]"
   ]
  },
  {
   "cell_type": "code",
   "execution_count": 7,
   "metadata": {},
   "outputs": [
    {
     "data": {
      "text/plain": [
       "{'prompt': 'I want to make a funny meme and am using AI as a crutch',\n",
       " 'error_type': 'RuntimeError',\n",
       " 'error_message': 'Failed after 5 attempts. Last error: Attempt 5 failed: Expecting value: line 1 column 1 (char 0)'}"
      ]
     },
     "execution_count": 7,
     "metadata": {},
     "output_type": "execute_result"
    }
   ],
   "source": [
    "df.sort_values(by=\"timestamp\", ascending=False).head(10).iloc[5]['data']"
   ]
  },
  {
   "cell_type": "code",
   "execution_count": 9,
   "metadata": {},
   "outputs": [
    {
     "data": {
      "text/plain": [
       "{'prompt': 'Ice cream is too cold and expensive. Grandpa yells at cloud.',\n",
       " 'image_url': 'https://i.imgflip.com/9ifa2x.jpg',\n",
       " 'template_id': '181913649'}"
      ]
     },
     "execution_count": 9,
     "metadata": {},
     "output_type": "execute_result"
    }
   ],
   "source": [
    "df.sort_values(by=\"timestamp\", ascending=False).head(10).iloc[0]['data']"
   ]
  }
 ],
 "metadata": {
  "kernelspec": {
   "display_name": ".venv",
   "language": "python",
   "name": "python3"
  },
  "language_info": {
   "codemirror_mode": {
    "name": "ipython",
    "version": 3
   },
   "file_extension": ".py",
   "mimetype": "text/x-python",
   "name": "python",
   "nbconvert_exporter": "python",
   "pygments_lexer": "ipython3",
   "version": "3.11.11"
  }
 },
 "nbformat": 4,
 "nbformat_minor": 2
}
