{
 "cells": [
  {
   "cell_type": "markdown",
   "metadata": {},
   "source": [
    "# first look at user data"
   ]
  },
  {
   "cell_type": "code",
   "execution_count": 3,
   "metadata": {},
   "outputs": [],
   "source": [
    "# setup\n",
    "import os\n",
    "import pandas as pd\n",
    "from sqlalchemy import create_engine\n",
    "from datetime import datetime\n",
    "from dotenv import load_dotenv\n",
    "\n",
    "# Load environment variables from both .env and shell\n",
    "load_dotenv()  # This adds .env variables to os.environ\n",
    "\n",
    "def create_engine_with_params(db_params: dict) -> create_engine:\n",
    "    \"\"\"Create SQLAlchemy engine using database parameters.\"\"\"\n",
    "    url = f\"postgresql://{db_params['user']}:{db_params['password']}@{db_params['host']}:{db_params['port']}/{db_params['dbname']}\"\n",
    "    return create_engine(url)\n",
    "\n",
    "db_params = {\n",
    "    \"dbname\": \"postgres\", \n",
    "    \"user\": os.getenv(\"DB_USER\"),\n",
    "    \"password\": os.getenv(\"DB_PASSWORD\"),\n",
    "    \"host\": os.getenv(\"DB_HOST\"),\n",
    "    \"port\": \"5432\"  # Default port for PostgreSQL\n",
    "}\n",
    "\n",
    "engine = create_engine_with_params(db_params)"
   ]
  },
  {
   "cell_type": "code",
   "execution_count": 4,
   "metadata": {},
   "outputs": [
    {
     "data": {
      "text/html": [
       "<div>\n",
       "<style scoped>\n",
       "    .dataframe tbody tr th:only-of-type {\n",
       "        vertical-align: middle;\n",
       "    }\n",
       "\n",
       "    .dataframe tbody tr th {\n",
       "        vertical-align: top;\n",
       "    }\n",
       "\n",
       "    .dataframe thead th {\n",
       "        text-align: right;\n",
       "    }\n",
       "</style>\n",
       "<table border=\"1\" class=\"dataframe\">\n",
       "  <thead>\n",
       "    <tr style=\"text-align: right;\">\n",
       "      <th></th>\n",
       "      <th>event_id</th>\n",
       "      <th>timestamp</th>\n",
       "      <th>session_id</th>\n",
       "      <th>type</th>\n",
       "      <th>data</th>\n",
       "      <th>metadata</th>\n",
       "    </tr>\n",
       "  </thead>\n",
       "  <tbody>\n",
       "    <tr>\n",
       "      <th>71</th>\n",
       "      <td>47c8ae19-e931-4eb1-9975-a0b256ff87da</td>\n",
       "      <td>2025-01-30 07:01:57.673085+00:00</td>\n",
       "      <td>ad740480-2ea6-464f-a8dc-f235fd8771f7</td>\n",
       "      <td>meme_created</td>\n",
       "      <td>{'prompt': 'Toddler is not impressed with this...</td>\n",
       "      <td>{'environment': 'development', 'timestamp_utc'...</td>\n",
       "    </tr>\n",
       "    <tr>\n",
       "      <th>70</th>\n",
       "      <td>1c61a7ba-7b94-435d-af16-4ec7e548d0ca</td>\n",
       "      <td>2025-01-30 07:01:36.183643+00:00</td>\n",
       "      <td>ad740480-2ea6-464f-a8dc-f235fd8771f7</td>\n",
       "      <td>meme_created</td>\n",
       "      <td>{'prompt': 'Toddler is not impressed with this...</td>\n",
       "      <td>{'environment': 'development', 'timestamp_utc'...</td>\n",
       "    </tr>\n",
       "    <tr>\n",
       "      <th>69</th>\n",
       "      <td>78b6ee9c-7cc4-4a4d-965e-50d1538bc72d</td>\n",
       "      <td>2025-01-30 07:01:12.527844+00:00</td>\n",
       "      <td>ad740480-2ea6-464f-a8dc-f235fd8771f7</td>\n",
       "      <td>meme_created</td>\n",
       "      <td>{'prompt': 'Toddler is not impressed with this...</td>\n",
       "      <td>{'environment': 'development', 'timestamp_utc'...</td>\n",
       "    </tr>\n",
       "    <tr>\n",
       "      <th>68</th>\n",
       "      <td>20807149-682b-4ff6-add7-f4f0cc7f039f</td>\n",
       "      <td>2025-01-30 07:01:02.015821+00:00</td>\n",
       "      <td>ad740480-2ea6-464f-a8dc-f235fd8771f7</td>\n",
       "      <td>meme_created</td>\n",
       "      <td>{'prompt': 'Toddler is not impressed with this...</td>\n",
       "      <td>{'environment': 'development', 'timestamp_utc'...</td>\n",
       "    </tr>\n",
       "    <tr>\n",
       "      <th>67</th>\n",
       "      <td>08a4f448-b127-4588-9e6e-43fd80022d7e</td>\n",
       "      <td>2025-01-30 07:00:56.291250+00:00</td>\n",
       "      <td>ad740480-2ea6-464f-a8dc-f235fd8771f7</td>\n",
       "      <td>meme_created</td>\n",
       "      <td>{'prompt': 'Toddler is not impressed with this...</td>\n",
       "      <td>{'environment': 'development', 'timestamp_utc'...</td>\n",
       "    </tr>\n",
       "  </tbody>\n",
       "</table>\n",
       "</div>"
      ],
      "text/plain": [
       "                                event_id                        timestamp  \\\n",
       "71  47c8ae19-e931-4eb1-9975-a0b256ff87da 2025-01-30 07:01:57.673085+00:00   \n",
       "70  1c61a7ba-7b94-435d-af16-4ec7e548d0ca 2025-01-30 07:01:36.183643+00:00   \n",
       "69  78b6ee9c-7cc4-4a4d-965e-50d1538bc72d 2025-01-30 07:01:12.527844+00:00   \n",
       "68  20807149-682b-4ff6-add7-f4f0cc7f039f 2025-01-30 07:01:02.015821+00:00   \n",
       "67  08a4f448-b127-4588-9e6e-43fd80022d7e 2025-01-30 07:00:56.291250+00:00   \n",
       "\n",
       "                              session_id          type  \\\n",
       "71  ad740480-2ea6-464f-a8dc-f235fd8771f7  meme_created   \n",
       "70  ad740480-2ea6-464f-a8dc-f235fd8771f7  meme_created   \n",
       "69  ad740480-2ea6-464f-a8dc-f235fd8771f7  meme_created   \n",
       "68  ad740480-2ea6-464f-a8dc-f235fd8771f7  meme_created   \n",
       "67  ad740480-2ea6-464f-a8dc-f235fd8771f7  meme_created   \n",
       "\n",
       "                                                 data  \\\n",
       "71  {'prompt': 'Toddler is not impressed with this...   \n",
       "70  {'prompt': 'Toddler is not impressed with this...   \n",
       "69  {'prompt': 'Toddler is not impressed with this...   \n",
       "68  {'prompt': 'Toddler is not impressed with this...   \n",
       "67  {'prompt': 'Toddler is not impressed with this...   \n",
       "\n",
       "                                             metadata  \n",
       "71  {'environment': 'development', 'timestamp_utc'...  \n",
       "70  {'environment': 'development', 'timestamp_utc'...  \n",
       "69  {'environment': 'development', 'timestamp_utc'...  \n",
       "68  {'environment': 'development', 'timestamp_utc'...  \n",
       "67  {'environment': 'development', 'timestamp_utc'...  "
      ]
     },
     "execution_count": 4,
     "metadata": {},
     "output_type": "execute_result"
    }
   ],
   "source": [
    "# recent records\n",
    "df = pd.read_sql_query(\"SELECT * FROM events\", con=engine)\n",
    "df.sort_values(by=\"timestamp\", ascending=False).head()"
   ]
  },
  {
   "cell_type": "code",
   "execution_count": 6,
   "metadata": {},
   "outputs": [
    {
     "data": {
      "text/plain": [
       "type\n",
       "meme_created       45\n",
       "error              14\n",
       "llm_response        5\n",
       "meme_liked          3\n",
       "test_event          2\n",
       "meme_downloaded     2\n",
       "startup             1\n",
       "Name: count, dtype: int64"
      ]
     },
     "execution_count": 6,
     "metadata": {},
     "output_type": "execute_result"
    }
   ],
   "source": [
    "# logs can get better - i.e. differentiate first try from retries; encourage meme liked\n",
    "df.type.value_counts()"
   ]
  },
  {
   "cell_type": "code",
   "execution_count": 13,
   "metadata": {},
   "outputs": [
    {
     "data": {
      "text/plain": [
       "{'prompt': 'Help me express the stress of trying to get a live demo working in very little time.',\n",
       " 'image_url': 'https://i.imgflip.com/9iewoc.jpg',\n",
       " 'template_id': '181913649'}"
      ]
     },
     "execution_count": 13,
     "metadata": {},
     "output_type": "execute_result"
    }
   ],
   "source": [
    "# we want to fix these logs such that we see what the api payload is - so we quickly know the captions\n",
    "# might also make sense to add a \"reasoning\" field to the LLM output\n",
    "df[df['data'].apply(lambda x: 'prompt' in x)]['data'].iloc[5]"
   ]
  },
  {
   "cell_type": "code",
   "execution_count": 15,
   "metadata": {},
   "outputs": [
    {
     "data": {
      "text/html": [
       "<div>\n",
       "<style scoped>\n",
       "    .dataframe tbody tr th:only-of-type {\n",
       "        vertical-align: middle;\n",
       "    }\n",
       "\n",
       "    .dataframe tbody tr th {\n",
       "        vertical-align: top;\n",
       "    }\n",
       "\n",
       "    .dataframe thead th {\n",
       "        text-align: right;\n",
       "    }\n",
       "</style>\n",
       "<table border=\"1\" class=\"dataframe\">\n",
       "  <thead>\n",
       "    <tr style=\"text-align: right;\">\n",
       "      <th></th>\n",
       "      <th>prompt</th>\n",
       "      <th>image_url</th>\n",
       "      <th>template_id</th>\n",
       "    </tr>\n",
       "  </thead>\n",
       "  <tbody>\n",
       "    <tr>\n",
       "      <th>14</th>\n",
       "      <td>Help me express the stress of trying to get a ...</td>\n",
       "      <td>https://i.imgflip.com/9iewoc.jpg</td>\n",
       "      <td>181913649</td>\n",
       "    </tr>\n",
       "    <tr>\n",
       "      <th>16</th>\n",
       "      <td>Help me express the stress of trying to get a ...</td>\n",
       "      <td>https://i.imgflip.com/9iewvf.jpg</td>\n",
       "      <td>181913649</td>\n",
       "    </tr>\n",
       "    <tr>\n",
       "      <th>17</th>\n",
       "      <td>Help me express the stress of trying to get a ...</td>\n",
       "      <td>https://i.imgflip.com/9iewwc.jpg</td>\n",
       "      <td>181913649</td>\n",
       "    </tr>\n",
       "    <tr>\n",
       "      <th>18</th>\n",
       "      <td>Help me express the stress of trying to get a ...</td>\n",
       "      <td>https://i.imgflip.com/9iewwn.jpg</td>\n",
       "      <td>181913649</td>\n",
       "    </tr>\n",
       "    <tr>\n",
       "      <th>20</th>\n",
       "      <td>I am trying to create a funny meme using AI an...</td>\n",
       "      <td>https://i.imgflip.com/9iexgl.jpg</td>\n",
       "      <td>181913649</td>\n",
       "    </tr>\n",
       "  </tbody>\n",
       "</table>\n",
       "</div>"
      ],
      "text/plain": [
       "                                               prompt  \\\n",
       "14  Help me express the stress of trying to get a ...   \n",
       "16  Help me express the stress of trying to get a ...   \n",
       "17  Help me express the stress of trying to get a ...   \n",
       "18  Help me express the stress of trying to get a ...   \n",
       "20  I am trying to create a funny meme using AI an...   \n",
       "\n",
       "                           image_url template_id  \n",
       "14  https://i.imgflip.com/9iewoc.jpg   181913649  \n",
       "16  https://i.imgflip.com/9iewvf.jpg   181913649  \n",
       "17  https://i.imgflip.com/9iewwc.jpg   181913649  \n",
       "18  https://i.imgflip.com/9iewwn.jpg   181913649  \n",
       "20  https://i.imgflip.com/9iexgl.jpg   181913649  "
      ]
     },
     "execution_count": 15,
     "metadata": {},
     "output_type": "execute_result"
    }
   ],
   "source": [
    "# First filter for rows with prompts, then extract the desired fields\n",
    "meme_details = df['data'].apply(pd.Series)[['prompt', 'image_url', 'template_id']]\n",
    "\n",
    "# Some rows might not have image_url or template_id (like error cases)\n",
    "# so let's filter to only successful meme creations\n",
    "created_memes = meme_details.dropna()\n",
    "\n",
    "# Display the results\n",
    "created_memes.head()"
   ]
  },
  {
   "cell_type": "code",
   "execution_count": 18,
   "metadata": {},
   "outputs": [],
   "source": [
    "# let's explore and annoted this first set using excel\n",
    "# goal is to create a set of 20-30 example prompts that we can use to evaluate the model\n",
    "# we can also annotate and some statistics like \"is_drake\" - but also off_optic, and with more insight to payload, is_json, is_complete \n",
    "created_memes.to_excel(\"../data/evals/created_memes.xlsx\",sheet_name=\"raw_data\")"
   ]
  },
  {
   "cell_type": "markdown",
   "metadata": {},
   "source": [
    "# Creating tests\n",
    "- First pass - is_json, is_complete, is_drake, off_optic\n",
    "- Second pass - is_different"
   ]
  },
  {
   "cell_type": "code",
   "execution_count": 19,
   "metadata": {},
   "outputs": [
    {
     "data": {
      "text/html": [
       "<div>\n",
       "<style scoped>\n",
       "    .dataframe tbody tr th:only-of-type {\n",
       "        vertical-align: middle;\n",
       "    }\n",
       "\n",
       "    .dataframe tbody tr th {\n",
       "        vertical-align: top;\n",
       "    }\n",
       "\n",
       "    .dataframe thead th {\n",
       "        text-align: right;\n",
       "    }\n",
       "</style>\n",
       "<table border=\"1\" class=\"dataframe\">\n",
       "  <thead>\n",
       "    <tr style=\"text-align: right;\">\n",
       "      <th></th>\n",
       "      <th>input</th>\n",
       "    </tr>\n",
       "  </thead>\n",
       "  <tbody>\n",
       "    <tr>\n",
       "      <th>0</th>\n",
       "      <td>Ice cream is too cold and expensive</td>\n",
       "    </tr>\n",
       "    <tr>\n",
       "      <th>1</th>\n",
       "      <td>Ice cream is too cold and expensive. Grandpa y...</td>\n",
       "    </tr>\n",
       "    <tr>\n",
       "      <th>2</th>\n",
       "      <td>Visit dinosaur museum with Henry expecting him...</td>\n",
       "    </tr>\n",
       "    <tr>\n",
       "      <th>3</th>\n",
       "      <td>Chicken lunch for ages</td>\n",
       "    </tr>\n",
       "    <tr>\n",
       "      <th>4</th>\n",
       "      <td>Nvidia releases the 5090, right when deepseek ...</td>\n",
       "    </tr>\n",
       "  </tbody>\n",
       "</table>\n",
       "</div>"
      ],
      "text/plain": [
       "                                               input\n",
       "0                Ice cream is too cold and expensive\n",
       "1  Ice cream is too cold and expensive. Grandpa y...\n",
       "2  Visit dinosaur museum with Henry expecting him...\n",
       "3                             Chicken lunch for ages\n",
       "4  Nvidia releases the 5090, right when deepseek ..."
      ]
     },
     "execution_count": 19,
     "metadata": {},
     "output_type": "execute_result"
    }
   ],
   "source": [
    "test_set = pd.read_excel(\"../data/evals/created_memes.xlsx\",sheet_name=\"test_set\")\n",
    "test_set.head()"
   ]
  },
  {
   "cell_type": "code",
   "execution_count": 22,
   "metadata": {},
   "outputs": [
    {
     "data": {
      "text/plain": [
       "{'id': '181913649',\n",
       " 'name': 'Drake Hotline Bling',\n",
       " 'url': 'https://i.imgflip.com/30b1gx.jpg',\n",
       " 'width': 1200,\n",
       " 'height': 1200,\n",
       " 'box_count': 2,\n",
       " 'captions': 1364500,\n",
       " 'kym_definition': \"\\nDrakeposting refers to the practice of posting reaction images and other still shots from the music video of the Canadian hip hop artist's 2015 hit single Hotline Bling on the imageboard site 4chan, typically to express one's disdain of the thread topic or something said by another poster in a similar vein to the usage of Costanza.jpg.\\n\",\n",
       " 'kym_examples': \"[\\n    {\\n        'text0': 'Waiting for your icecream to thaw',\\n        'text1': 'Warming up your spoon in the microwave to scoop it easier'\\n    },\\n    {\\n        'text0': 'Complaining about paywalled journalism',\\n        'text1': 'Complaining about paywalled academic articles'\\n    },    \\n]\",\n",
       " 'imgflip_api_post': \"\\n{\\n    'template_id':'181913649',\\n    'username': os.getenv('IMGFLIP_USERNAME'),\\n    'password': os.getenv('IMGFLIP_PASSWORD'),\\n    'text0': 'Waiting for your icecream to thaw',\\n    'text1': 'Warming up your spoon in the microwave to scoop it easier'\\n}\\n\"}"
      ]
     },
     "execution_count": 22,
     "metadata": {},
     "output_type": "execute_result"
    }
   ],
   "source": [
    "# test harness - \n",
    "import sys\n",
    "sys.path.append('../apps/gradio')  # Add the utils.py location to Python path\n",
    "from utils import construct_meme_prompt\n",
    "# context is better when read from the pickle file due to comments that are lost when saved to json\n",
    "context = pd.read_pickle(\"../data/processed/memes20250128.pkl\").to_dict(orient='records')\n",
    "\n",
    "context[0]"
   ]
  },
  {
   "cell_type": "code",
   "execution_count": 25,
   "metadata": {},
   "outputs": [],
   "source": [
    "# saving for later\n",
    "import pickle\n",
    "with open('../apps/gradio/memes20250128.pkl', 'wb') as f:  # 'wb' means write binary\n",
    "    pickle.dump(context, f)"
   ]
  },
  {
   "cell_type": "code",
   "execution_count": 24,
   "metadata": {},
   "outputs": [
    {
     "data": {
      "text/plain": [
       "{'id': '217743513',\n",
       " 'name': 'UNO Draw 25 Cards',\n",
       " 'url': 'https://i.imgflip.com/3lmzyx.jpg',\n",
       " 'width': 500,\n",
       " 'height': 494,\n",
       " 'box_count': 2,\n",
       " 'captions': 588250,\n",
       " 'kym_definition': '\\nDraw 25 refers to a two-paneled image macro with one image of a customizable Uno wild card next to an image of a man with a large hand of cards. The wild card typically gives the option of performing an action or \"draw 25\" and the second image infers that a person decided against performing the action. The image macro rose to popularity on Twitter, Reddit and Instagram in January 2020.\\n',\n",
       " 'kym_examples': \"[\\n    {\\n        'text0': 'Acknowledge that your child made a valid point against you', # option other than draw 25\\n        'text1': 'Parents', # the person who decided to draw 25\\n    },\\n    {\\n        'text0': 'Date me', # option other than draw 25\\n        'text1': 'My crush', # the person who decided to draw 25\\n    },    \\n]\",\n",
       " 'imgflip_api_post': \"\\n{\\n    'template_id':'217743513',\\n    'username': IMGFLIP_USERNAME,\\n    'password': IMGFLIP_PASSWORD,\\n    'text0': 'Date me',\\n    'text1': 'My crush'\\n}\\n\"}"
      ]
     },
     "execution_count": 24,
     "metadata": {},
     "output_type": "execute_result"
    }
   ],
   "source": [
    "context[3]"
   ]
  },
  {
   "cell_type": "code",
   "execution_count": 26,
   "metadata": {},
   "outputs": [
    {
     "name": "stdout",
     "output_type": "stream",
     "text": [
      "\n",
      "[PROMPT CONSTRUCTION] Starting with user input: Ice cream is too cold and expensive\n",
      "[PROMPT CONSTRUCTION] Prompt constructed successfully\n",
      "\n",
      "[PROMPT CONSTRUCTION] Starting with user input: Ice cream is too cold and expensive. Grandpa yells at cloud.\n",
      "[PROMPT CONSTRUCTION] Prompt constructed successfully\n",
      "\n",
      "[PROMPT CONSTRUCTION] Starting with user input: Visit dinosaur museum with Henry expecting him to hate it. Instead he loves it and I get sick on the VR experience \n",
      "[PROMPT CONSTRUCTION] Prompt constructed successfully\n",
      "\n",
      "[PROMPT CONSTRUCTION] Starting with user input: Chicken lunch for ages\n",
      "[PROMPT CONSTRUCTION] Prompt constructed successfully\n",
      "\n",
      "[PROMPT CONSTRUCTION] Starting with user input: Nvidia releases the 5090, right when deepseek arrives \n",
      "[PROMPT CONSTRUCTION] Prompt constructed successfully\n",
      "\n",
      "[PROMPT CONSTRUCTION] Starting with user input: I am trying to create a funny meme using AI and I think AI is holding me back\n",
      "[PROMPT CONSTRUCTION] Prompt constructed successfully\n",
      "\n",
      "[PROMPT CONSTRUCTION] Starting with user input: That feeling when your app breaks right when you want to demo it\n",
      "[PROMPT CONSTRUCTION] Prompt constructed successfully\n",
      "\n",
      "[PROMPT CONSTRUCTION] Starting with user input: i want to represent that a builder of an app will be surprised when they see the real user data\n",
      "[PROMPT CONSTRUCTION] Prompt constructed successfully\n",
      "\n",
      "[PROMPT CONSTRUCTION] Starting with user input: Give me a meme, not drake, regarding how you draw a blank when being asked to \"tell me about yourself\"\n",
      "[PROMPT CONSTRUCTION] Prompt constructed successfully\n",
      "\n",
      "[PROMPT CONSTRUCTION] Starting with user input: Funny meme, Singing Hamilton while playing on play equipment.\n",
      "[PROMPT CONSTRUCTION] Prompt constructed successfully\n",
      "\n",
      "[PROMPT CONSTRUCTION] Starting with user input: Not drake. Singing Hamilton while playing on the play equipment \n",
      "[PROMPT CONSTRUCTION] Prompt constructed successfully\n",
      "\n",
      "[PROMPT CONSTRUCTION] Starting with user input: i want to represent that a builder of an app will be surprised when they see the real user data.\n",
      "[PROMPT CONSTRUCTION] Prompt constructed successfully\n",
      "\n",
      "[PROMPT CONSTRUCTION] Starting with user input: Toddler is not impressed with his dad's cooking\n",
      "[PROMPT CONSTRUCTION] Prompt constructed successfully\n",
      "\n",
      "[PROMPT CONSTRUCTION] Starting with user input: Creating an evaluation set is hard work\n",
      "[PROMPT CONSTRUCTION] Prompt constructed successfully\n",
      "\n",
      "[PROMPT CONSTRUCTION] Starting with user input: I'm making memes with AI instead of working\n",
      "[PROMPT CONSTRUCTION] Prompt constructed successfully\n"
     ]
    },
    {
     "data": {
      "text/plain": [
       "input                   Ice cream is too cold and expensive\n",
       "prompt    USER INPUT:\\nIce cream is too cold and expensi...\n",
       "Name: 0, dtype: object"
      ]
     },
     "execution_count": 26,
     "metadata": {},
     "output_type": "execute_result"
    }
   ],
   "source": [
    "test_set['prompt'] = test_set['input'].apply(lambda x: construct_meme_prompt(x,context)) \n",
    "test_set.iloc[0]"
   ]
  },
  {
   "cell_type": "code",
   "execution_count": 28,
   "metadata": {},
   "outputs": [
    {
     "name": "stdout",
     "output_type": "stream",
     "text": [
      "USER INPUT:\n",
      "Ice cream is too cold and expensive\n",
      "====\n",
      "AVAILABLE CONTEXT:\n",
      "[{'id': '181913649', 'name': 'Drake Hotline Bling', 'url': 'https://i.imgflip.com/30b1gx.jpg', 'width': 1200, 'height': 1200, 'box_count': 2, 'captions': 1364500, 'kym_definition': \"\\nDrakeposting refers to the practice of posting reaction images and other still shots from the music video of the Canadian hip hop artist's 2015 hit single Hotline Bling on the imageboard site 4chan, typically to express one's disdain of the thread topic or something said by another poster in a similar vein to the usage of Costanza.jpg.\\n\", 'kym_examples': \"[\\n    {\\n        'text0': 'Waiting for your icecream to thaw',\\n        'text1': 'Warming up your spoon in the microwave to scoop it easier'\\n    },\\n    {\\n        'text0': 'Complaining about paywalled journalism',\\n        'text1': 'Complaining about paywalled academic articles'\\n    },    \\n]\", 'imgflip_api_post': \"\\n{\\n    'template_id':'181913649',\\n    'username': os.getenv('IMGFLIP_USERNAME'),\\n    'password': os.getenv('IMGFLIP_PASSWORD'),\\n    'text0': 'Waiting for your icecream to thaw',\\n    'text1': 'Warming up your spoon in the microwave to scoop it easier'\\n}\\n\"}, {'id': '87743020', 'name': 'Two Buttons', 'url': 'https://i.imgflip.com/1g8my4.jpg', 'width': 600, 'height': 908, 'box_count': 3, 'captions': 1057000, 'kym_definition': '\\n\"Daily Struggle\" is an exploitable comic featuring a character attempting to push one of two red buttons labeled with contradicting statements.\\n', 'kym_examples': \"[\\n    {\\n        'text0': 'Be a Dick',\\n        'text1': 'Don't be a Dick'\\n    },\\n    {\\n        'text0': 'Engineer products people want to buy',\\n        'text1': 'Engineer people to buy your products'\\n    },    \\n]\", 'imgflip_api_post': \"\\n{\\n    'template_id':'181913649',\\n    'username': IMGFLIP_USERNAME,\\n    'password': IMGFLIP_PASSWORD,\\n    'text0': 'Engineer products people want to buy',\\n    'text1': 'Engineer people to buy your products'\\n}\\n\"}, {'id': '112126428', 'name': 'Distracted Boyfriend', 'url': 'https://i.imgflip.com/1ur9b0.jpg', 'width': 1200, 'height': 800, 'box_count': 3, 'captions': 1079250, 'kym_definition': '\\nDistracted Boyfriend, also known as Man Looking at Other Woman, is an object labeling stock photo series in which a man looks at the backside of a woman walking by while another woman, presumably his romantic partner, looks on disapprovingly\\n', 'kym_examples': \"[\\n    {\\n        'text0': 'Socialism', # the other woman\\n        'text1': 'The Youth', # the man\\n        'text2': 'Capitalism' # romantic partner\\n    },\\n    {\\n        'text0': 'solar eclipse', # the other woman\\n        'text1': 'me', # the man\\n        'text2': 'scientific evidence supporting the dangers of staring at the sun' # romantic partner\\n    },    \\n]\", 'imgflip_api_post': \"\\n{\\n    'template_id':'112126428',\\n    'username': IMGFLIP_USERNAME,\\n    'password': IMGFLIP_PASSWORD,\\n    'boxes[0][text]': 'Socialism',\\n    'boxes[1][text]': 'The Youth',\\n    'boxes[2][text]': 'Capitalism',\\n}\\n\"}, {'id': '217743513', 'name': 'UNO Draw 25 Cards', 'url': 'https://i.imgflip.com/3lmzyx.jpg', 'width': 500, 'height': 494, 'box_count': 2, 'captions': 588250, 'kym_definition': '\\nDraw 25 refers to a two-paneled image macro with one image of a customizable Uno wild card next to an image of a man with a large hand of cards. The wild card typically gives the option of performing an action or \"draw 25\" and the second image infers that a person decided against performing the action. The image macro rose to popularity on Twitter, Reddit and Instagram in January 2020.\\n', 'kym_examples': \"[\\n    {\\n        'text0': 'Acknowledge that your child made a valid point against you', # option other than draw 25\\n        'text1': 'Parents', # the person who decided to draw 25\\n    },\\n    {\\n        'text0': 'Date me', # option other than draw 25\\n        'text1': 'My crush', # the person who decided to draw 25\\n    },    \\n]\", 'imgflip_api_post': \"\\n{\\n    'template_id':'217743513',\\n    'username': IMGFLIP_USERNAME,\\n    'password': IMGFLIP_PASSWORD,\\n    'text0': 'Date me',\\n    'text1': 'My crush'\\n}\\n\"}, {'id': '131087935', 'name': 'Running Away Balloon', 'url': 'https://i.imgflip.com/261o3j.jpg', 'width': 761, 'height': 1024, 'box_count': 5, 'captions': 556750, 'kym_definition': \"\\nRunning Away Balloon is a two-panel exploitable webcomic featuring a grey character attempting to reach a yellow balloon but is being held back by a pink character. The meme has been used to express frustrations with the subject's limitations.\\n\", 'kym_examples': \"[\\n    {\\n        'text0': 'Me', # top panel, person\\n        'text1': 'Good Meme', # top panel, opportunity\\n        'text2': 'AI', # bottom panel, thing holding person back\\n        'text3': 'Me', # bottom panel, person\\n        'text4': 'Good Meme', # bottom panel, opportunity\\n    },\\n    {\\n        'text0': 'Me', # top panel, person\\n        'text1': 'Current Project', # top panel, opportunity\\n        'text2': 'Other Project Ideas', # bottom panel, thing holding person back\\n        'text3': 'Me', # bottom panel, person\\n        'text4': 'Current Project', # bottom panel, opportunity\\n    },    \\n]\", 'imgflip_api_post': \"\\n{\\n    'template_id':'131087935',\\n    'username': IMGFLIP_USERNAME,\\n    'password': IMGFLIP_PASSWORD,\\n    'boxes[0][text]': 'Me', # top frame, person\\n    'boxes[1][text]': 'Good Meme', # top frame, opportunity\\n    'boxes[2][text]': 'AI', # bottom frame, thing holding person back\\n    'boxes[3][text]': 'Me', # bottom frame, person\\n    'boxes[5][text]': 'Good Meme', # bottom frame, opportunity\\n}\\n\"}, {'id': '124822590', 'name': 'Left Exit 12 Off Ramp', 'url': 'https://i.imgflip.com/22bdq6.jpg', 'width': 804, 'height': 767, 'box_count': 3, 'captions': 668000, 'kym_definition': \"\\nLeft Exit 12 Off Ramp is a series of exploitables in which a car swerving into an off ramp. On the highway sign, the meme's author photoshops something the author disapproves of and something they would prefer. The car swerves toward the preference.\\n\", 'kym_examples': \"[\\n    {\\n        'text0': 'A new year filled with opportunities to better myself and make a difference', # disapproved option\\n        'text1': 'Another year shitposting memes on Reddit', # approved option car is swerving toward\\n        'text2': 'Me', # car\\n    },\\n    {\\n        'text0': 'Using Tide Pods to clean laundry', # disapproved option\\n        'text1': 'Using Tide Pods as fine cuisine', # approved option car is swerving toward\\n        'text2': 'Me', # car\\n    },    \\n]\", 'imgflip_api_post': \"\\n{\\n    'template_id':'124822590',\\n    'username': IMGFLIP_USERNAME,\\n    'password': IMGFLIP_PASSWORD,\\n    'boxes[0][text]': 'A new year filled with opportunities to better myself and make a difference', # disapproved option\\n    'boxes[1][text]': 'Another year shitposting memes on Reddit', # approved option car is swerving toward\\n    'boxes[2][text]': 'Me', # car\\n}\\n\"}, {'id': '222403160', 'name': 'Bernie I Am Once Again Asking For Your Support', 'url': 'https://i.imgflip.com/3oevdk.jpg', 'width': 750, 'height': 750, 'box_count': 2, 'captions': 304000, 'kym_definition': '\\nI Am Once Again Asking for Your Financial Support is a quote uttered by the United States politician Bernie Sanders in his December 2019 fundraising video. Starting in mid-January 2020, the quote gained popularity as an image macro on Reddit and Facebook, with memes imagining various scenarios in which monetary donations are being requested.\\n', 'kym_examples': '[\\n    {\\n        \\'text0\\': \\'when you tell people you just want cash for your birthday\\', # situation, top\\n        \\'text1\\': \\'for your financial support\\', # what is being requested, bottom - below the words \"I am once again asking \"\\n    },\\n    {\\n        \\'text0\\': \\'EA games evert 0.3 seconds\\', # situation, top\\n        \\'text1\\': \\'for your financial support\\', # what is being requested, bottom - below the words \"I am once again asking \"\\n    },    \\n]', 'imgflip_api_post': '\\n{\\n    \\'template_id\\':\\'222403160\\',\\n    \\'username\\': IMGFLIP_USERNAME,\\n    \\'password\\': IMGFLIP_PASSWORD,\\n    \\'text0\\': \\'when you tell people you just want cash for your birthday\\', # situation, top\\n    \\'text1\\': \\'for your financial support\\', # what is being requested, bottom - below the words \"I am once again asking\"\\n}\\n'}, {'id': '97984', 'name': 'Disaster Girl', 'url': 'https://i.imgflip.com/23ls.jpg', 'width': 500, 'height': 375, 'box_count': 2, 'captions': 377000, 'kym_definition': '\\nDisaster Girl is a photoshop meme in which an exploitable photo of a smiling girl is superimposed on to images of natural disasters and accidents to imply that she has caused some type of calamity depicted in the background.\\n', 'kym_examples': \"[\\n    {\\n        'text0': 'flu season', # the disaster, or the top text\\n        'text1': 'RFK Jnr', # the disaster girl, or the bottom text\\n    },\\n    {\\n        'text0': 'you don't have to clean your room', # the disaster\\n        'text1': 'if there is no room', # the disaster girl\\n    },    \\n]\", 'imgflip_api_post': \"\\n{\\n    'template_id':'97984',\\n    'username': IMGFLIP_USERNAME,\\n    'password': IMGFLIP_PASSWORD,\\n    'text0': 'flu season', # the disaster\\n    'text1': 'RFK Jnr', # the disaster girl\\n}\\n\"}, {'id': '135256802', 'name': 'Epic Handshake', 'url': 'https://i.imgflip.com/28j0te.jpg', 'width': 900, 'height': 645, 'box_count': 3, 'captions': 231750, 'kym_definition': '\\nEpic Handshake, also known as the Predator Handshake, is a memorable scene from the 1987 science fiction action film Predator in which two men greet each other with an arm-wrestle handshake. Due to the campy nature of the scene, it has inspired many parody and remix videos on YouTube, often featuring background music using popular songs from the 1980s. In the 2010s and beyond, a watercolor painting depicting the handshake became a prevalent object-labeling meme format online with captions added to both arms and the hands in the middle, typically to show agreement between two parties on something.\\n', 'kym_examples': \"[\\n    {\\n        'text0': 'not calling the police', # what they agree on\\n        'text1': 'rap', # right arm from left person\\n        'text2': 'punk', # left arm from right person\\n    },\\n    {\\n        'text0': 'constantly worrying about drivers', # what they agree on\\n        'text1': 'cyclists', # left arm\\n        'text2': 'linux users', # right arm\\n    },    \\n]\", 'imgflip_api_post': \"\\n{\\n    'template_id':'135256802',\\n    'username': IMGFLIP_USERNAME,\\n    'password': IMGFLIP_PASSWORD,\\n    'boxes[0][text]': 'not calling the police', # what they agree on\\n    'boxes[1][text]': 'rap', # left arm\\n    'boxes[2][text]': 'punk', # right arm\\n}\\n\"}, {'id': '129242436', 'name': 'Change My Mind', 'url': 'https://i.imgflip.com/24y43o.jpg', 'width': 482, 'height': 361, 'box_count': 2, 'captions': 637250, 'kym_definition': '\\nSteven Crowder\\'s \"Change My Mind\" Campus Sign is a photograph of American-Canadian conservative podcaster Steven Crowder seated behind a sign that reads \"Male Privilege is a myth / Change My Mind\" outside of Texas Christian University. Since its upload via Crowder\\'s Twitter account in February 2018, the photograph has been turned into an exploitable template for online parodies.\\n', 'kym_examples': \"[\\n    {\\n        'text0': 'pluto is not a planet', # the proposal, top of the sign\\n        'text1': '', # on the left of the change my mind text, optional\\n    },\\n    {\\n        'text0': 'that CEO was actively murdering people purely for profit', # the proposal, top of the sign\\n        'text1': '', # on the left of the change my mind text, optional\\n    },    \\n]\", 'imgflip_api_post': \"\\n{\\n    'template_id':'129242436',\\n    'username': IMGFLIP_USERNAME,\\n    'password': IMGFLIP_PASSWORD,\\n    'text0': 'pluto is not a planet', # the proposal, top of the sign\\n    'text1': '', # on the left of the change my mind text, optional\\n}\\n\"}]\n"
     ]
    }
   ],
   "source": [
    "print(test_set.iloc[0]['prompt'])"
   ]
  },
  {
   "cell_type": "code",
   "execution_count": 30,
   "metadata": {},
   "outputs": [],
   "source": [
    "# get the model loaded\n",
    "from dotenv import load_dotenv\n",
    "import google.generativeai as genai\n",
    "\n",
    "# Load environment variables from both .env and shell\n",
    "load_dotenv()  # This adds .env variables to os.environ\n",
    "\n",
    "with open('../apps/gradio/system_prompt.txt', 'r') as f:\n",
    "    system_prompt = f.read()\n",
    "\n",
    "# Configure Gemini\n",
    "genai.configure(api_key=os.getenv('GEMINI_API_KEY'))\n",
    "model = genai.GenerativeModel(\n",
    "    model_name='gemini-1.5-flash',\n",
    "    system_instruction=system_prompt,\n",
    ")"
   ]
  },
  {
   "cell_type": "code",
   "execution_count": 31,
   "metadata": {},
   "outputs": [],
   "source": [
    "# user prompt config - which we may want to change\n",
    "config = {\n",
    "    'max_output_tokens': 1000,\n",
    "    'temperature': 0.1,\n",
    "}"
   ]
  },
  {
   "cell_type": "code",
   "execution_count": 32,
   "metadata": {},
   "outputs": [],
   "source": [
    "def test_completion(prompt):\n",
    "    response = model.generate_content(\n",
    "        prompt,\n",
    "        generation_config=genai.GenerationConfig(**config)\n",
    "    )\n",
    "    return response.text\n",
    "\n",
    "test_set['response'] = test_set.prompt.apply(lambda x: test_completion(x))"
   ]
  },
  {
   "cell_type": "code",
   "execution_count": 34,
   "metadata": {},
   "outputs": [
    {
     "name": "stdout",
     "output_type": "stream",
     "text": [
      "```json\n",
      "{\n",
      "  \"template_id\": \"181913649\",\n",
      "  \"text0\": \"Eating ice cream that's slightly melted\",\n",
      "  \"text1\": \"Paying full price for ice cream that's rock solid\"\n",
      "}\n",
      "```\n",
      "\n"
     ]
    }
   ],
   "source": [
    "print(test_set.iloc[0]['response'])\n",
    "# here is a problem - the response is not a valid json"
   ]
  },
  {
   "cell_type": "code",
   "execution_count": 35,
   "metadata": {},
   "outputs": [
    {
     "data": {
      "text/plain": [
       "np.float64(0.4666666666666667)"
      ]
     },
     "execution_count": 35,
     "metadata": {},
     "output_type": "execute_result"
    }
   ],
   "source": [
    "import json\n",
    "def is_valid_json(response):\n",
    "    try:\n",
    "        json.loads(response)\n",
    "        return True\n",
    "    except json.JSONDecodeError:\n",
    "        return False\n",
    "test_set['is_valid_json'] = test_set.response.apply(lambda x: is_valid_json(x))\n",
    "test_set['is_valid_json'].sum()/test_set.shape[0]"
   ]
  },
  {
   "cell_type": "code",
   "execution_count": 36,
   "metadata": {},
   "outputs": [
    {
     "data": {
      "text/plain": [
       "15"
      ]
     },
     "execution_count": 36,
     "metadata": {},
     "output_type": "execute_result"
    }
   ],
   "source": [
    "test_set.shape[0]"
   ]
  },
  {
   "cell_type": "code",
   "execution_count": 37,
   "metadata": {},
   "outputs": [
    {
     "data": {
      "text/plain": [
       "array(['```json\\n{\\n  \"template_id\": \"181913649\",\\n  \"text0\": \"Eating ice cream that\\'s slightly melted\",\\n  \"text1\": \"Paying full price for ice cream that\\'s rock solid\"\\n}\\n```\\n',\n",
       "       '```json\\n{\\n  \"template_id\": \"181913649\",\\n  \"text0\": \"Buying the 5090\",\\n  \"text1\": \"Waiting for Deepseek to be good\"\\n}\\n```\\n',\n",
       "       '```json\\n{\\n  \"template_id\": \"181913649\",\\n  \"text0\": \"Trying to make a funny meme with AI\",\\n  \"text1\": \"Giving up and making a meme about AI hindering my meme-making process\"\\n}\\n```\\n',\n",
       "       '```json\\n{\\n  \"template_id\": \"181913649\",\\n  \"text0\": \"Smooth demo\",\\n  \"text1\": \"App crashes spectacularly\"\\n}\\n```\\n',\n",
       "       '```json\\n{\\n  \"template_id\": \"124822590\",\\n  \"boxes[0][text]\": \"Actually giving a thoughtful answer to \\\\\"Tell me about yourself\\\\\"\",\\n  \"boxes[1][text]\": \"Brain farting and saying \\\\\"uh... I like memes\\\\\"\",\\n  \"boxes[2][text]\": \"Me\"\\n}\\n```\\n',\n",
       "       '```json\\n{\\n  \"template_id\": \"181913649\",\\n  \"text0\": \"Singing Hamilton accurately\",\\n  \"text1\": \"Singing Hamilton while swinging on monkey bars\"\\n}\\n```\\n',\n",
       "       '```json\\n{\\n  \"template_id\": \"181913649\",\\n  \"text0\": \"Expected user data\",\\n  \"text1\": \"Actual user data\"\\n}\\n```\\n',\n",
       "       '```json\\n{\\n  \"template_id\": \"181913649\",\\n  \"text0\": \"Spending hours meticulously labeling data\",\\n  \"text1\": \"Just using a pre-labeled dataset\"\\n}\\n```\\n'],\n",
       "      dtype=object)"
      ]
     },
     "execution_count": 37,
     "metadata": {},
     "output_type": "execute_result"
    }
   ],
   "source": [
    "test_set[~test_set['is_valid_json']]['response'].values\n"
   ]
  },
  {
   "cell_type": "code",
   "execution_count": 38,
   "metadata": {},
   "outputs": [
    {
     "data": {
      "text/plain": [
       "np.float64(0.8666666666666667)"
      ]
     },
     "execution_count": 38,
     "metadata": {},
     "output_type": "execute_result"
    }
   ],
   "source": [
    "# drake test\n",
    "test_set['is_drake'] = test_set.response.apply(lambda x: '181913649' in x)\n",
    "test_set['is_drake'].sum()/test_set.shape[0]"
   ]
  },
  {
   "cell_type": "code",
   "execution_count": 39,
   "metadata": {},
   "outputs": [
    {
     "data": {
      "text/plain": [
       "'USER INPUT:\\nIce cream is too cold and expensive\\n====\\nAVAILABLE CONTEXT:\\n[{\\'id\\': \\'181913649\\', \\'name\\': \\'Drake Hotline Bling\\', \\'url\\': \\'https://i.imgflip.com/30b1gx.jpg\\', \\'width\\': 1200, \\'height\\': 1200, \\'box_count\\': 2, \\'captions\\': 1364500, \\'kym_definition\\': \"\\\\nDrakeposting refers to the practice of posting reaction images and other still shots from the music video of the Canadian hip hop artist\\'s 2015 hit single Hotline Bling on the imageboard site 4chan, typically to express one\\'s disdain of the thread topic or something said by another poster in a similar vein to the usage of Costanza.jpg.\\\\n\", \\'kym_examples\\': \"[\\\\n    {\\\\n        \\'text0\\': \\'Waiting for your icecream to thaw\\',\\\\n        \\'text1\\': \\'Warming up your spoon in the microwave to scoop it easier\\'\\\\n    },\\\\n    {\\\\n        \\'text0\\': \\'Complaining about paywalled journalism\\',\\\\n        \\'text1\\': \\'Complaining about paywalled academic articles\\'\\\\n    },    \\\\n]\", \\'imgflip_api_post\\': \"\\\\n{\\\\n    \\'template_id\\':\\'181913649\\',\\\\n    \\'username\\': os.getenv(\\'IMGFLIP_USERNAME\\'),\\\\n    \\'password\\': os.getenv(\\'IMGFLIP_PASSWORD\\'),\\\\n    \\'text0\\': \\'Waiting for your icecream to thaw\\',\\\\n    \\'text1\\': \\'Warming up your spoon in the microwave to scoop it easier\\'\\\\n}\\\\n\"}, {\\'id\\': \\'87743020\\', \\'name\\': \\'Two Buttons\\', \\'url\\': \\'https://i.imgflip.com/1g8my4.jpg\\', \\'width\\': 600, \\'height\\': 908, \\'box_count\\': 3, \\'captions\\': 1057000, \\'kym_definition\\': \\'\\\\n\"Daily Struggle\" is an exploitable comic featuring a character attempting to push one of two red buttons labeled with contradicting statements.\\\\n\\', \\'kym_examples\\': \"[\\\\n    {\\\\n        \\'text0\\': \\'Be a Dick\\',\\\\n        \\'text1\\': \\'Don\\'t be a Dick\\'\\\\n    },\\\\n    {\\\\n        \\'text0\\': \\'Engineer products people want to buy\\',\\\\n        \\'text1\\': \\'Engineer people to buy your products\\'\\\\n    },    \\\\n]\", \\'imgflip_api_post\\': \"\\\\n{\\\\n    \\'template_id\\':\\'181913649\\',\\\\n    \\'username\\': IMGFLIP_USERNAME,\\\\n    \\'password\\': IMGFLIP_PASSWORD,\\\\n    \\'text0\\': \\'Engineer products people want to buy\\',\\\\n    \\'text1\\': \\'Engineer people to buy your products\\'\\\\n}\\\\n\"}, {\\'id\\': \\'112126428\\', \\'name\\': \\'Distracted Boyfriend\\', \\'url\\': \\'https://i.imgflip.com/1ur9b0.jpg\\', \\'width\\': 1200, \\'height\\': 800, \\'box_count\\': 3, \\'captions\\': 1079250, \\'kym_definition\\': \\'\\\\nDistracted Boyfriend, also known as Man Looking at Other Woman, is an object labeling stock photo series in which a man looks at the backside of a woman walking by while another woman, presumably his romantic partner, looks on disapprovingly\\\\n\\', \\'kym_examples\\': \"[\\\\n    {\\\\n        \\'text0\\': \\'Socialism\\', # the other woman\\\\n        \\'text1\\': \\'The Youth\\', # the man\\\\n        \\'text2\\': \\'Capitalism\\' # romantic partner\\\\n    },\\\\n    {\\\\n        \\'text0\\': \\'solar eclipse\\', # the other woman\\\\n        \\'text1\\': \\'me\\', # the man\\\\n        \\'text2\\': \\'scientific evidence supporting the dangers of staring at the sun\\' # romantic partner\\\\n    },    \\\\n]\", \\'imgflip_api_post\\': \"\\\\n{\\\\n    \\'template_id\\':\\'112126428\\',\\\\n    \\'username\\': IMGFLIP_USERNAME,\\\\n    \\'password\\': IMGFLIP_PASSWORD,\\\\n    \\'boxes[0][text]\\': \\'Socialism\\',\\\\n    \\'boxes[1][text]\\': \\'The Youth\\',\\\\n    \\'boxes[2][text]\\': \\'Capitalism\\',\\\\n}\\\\n\"}, {\\'id\\': \\'217743513\\', \\'name\\': \\'UNO Draw 25 Cards\\', \\'url\\': \\'https://i.imgflip.com/3lmzyx.jpg\\', \\'width\\': 500, \\'height\\': 494, \\'box_count\\': 2, \\'captions\\': 588250, \\'kym_definition\\': \\'\\\\nDraw 25 refers to a two-paneled image macro with one image of a customizable Uno wild card next to an image of a man with a large hand of cards. The wild card typically gives the option of performing an action or \"draw 25\" and the second image infers that a person decided against performing the action. The image macro rose to popularity on Twitter, Reddit and Instagram in January 2020.\\\\n\\', \\'kym_examples\\': \"[\\\\n    {\\\\n        \\'text0\\': \\'Acknowledge that your child made a valid point against you\\', # option other than draw 25\\\\n        \\'text1\\': \\'Parents\\', # the person who decided to draw 25\\\\n    },\\\\n    {\\\\n        \\'text0\\': \\'Date me\\', # option other than draw 25\\\\n        \\'text1\\': \\'My crush\\', # the person who decided to draw 25\\\\n    },    \\\\n]\", \\'imgflip_api_post\\': \"\\\\n{\\\\n    \\'template_id\\':\\'217743513\\',\\\\n    \\'username\\': IMGFLIP_USERNAME,\\\\n    \\'password\\': IMGFLIP_PASSWORD,\\\\n    \\'text0\\': \\'Date me\\',\\\\n    \\'text1\\': \\'My crush\\'\\\\n}\\\\n\"}, {\\'id\\': \\'131087935\\', \\'name\\': \\'Running Away Balloon\\', \\'url\\': \\'https://i.imgflip.com/261o3j.jpg\\', \\'width\\': 761, \\'height\\': 1024, \\'box_count\\': 5, \\'captions\\': 556750, \\'kym_definition\\': \"\\\\nRunning Away Balloon is a two-panel exploitable webcomic featuring a grey character attempting to reach a yellow balloon but is being held back by a pink character. The meme has been used to express frustrations with the subject\\'s limitations.\\\\n\", \\'kym_examples\\': \"[\\\\n    {\\\\n        \\'text0\\': \\'Me\\', # top panel, person\\\\n        \\'text1\\': \\'Good Meme\\', # top panel, opportunity\\\\n        \\'text2\\': \\'AI\\', # bottom panel, thing holding person back\\\\n        \\'text3\\': \\'Me\\', # bottom panel, person\\\\n        \\'text4\\': \\'Good Meme\\', # bottom panel, opportunity\\\\n    },\\\\n    {\\\\n        \\'text0\\': \\'Me\\', # top panel, person\\\\n        \\'text1\\': \\'Current Project\\', # top panel, opportunity\\\\n        \\'text2\\': \\'Other Project Ideas\\', # bottom panel, thing holding person back\\\\n        \\'text3\\': \\'Me\\', # bottom panel, person\\\\n        \\'text4\\': \\'Current Project\\', # bottom panel, opportunity\\\\n    },    \\\\n]\", \\'imgflip_api_post\\': \"\\\\n{\\\\n    \\'template_id\\':\\'131087935\\',\\\\n    \\'username\\': IMGFLIP_USERNAME,\\\\n    \\'password\\': IMGFLIP_PASSWORD,\\\\n    \\'boxes[0][text]\\': \\'Me\\', # top frame, person\\\\n    \\'boxes[1][text]\\': \\'Good Meme\\', # top frame, opportunity\\\\n    \\'boxes[2][text]\\': \\'AI\\', # bottom frame, thing holding person back\\\\n    \\'boxes[3][text]\\': \\'Me\\', # bottom frame, person\\\\n    \\'boxes[5][text]\\': \\'Good Meme\\', # bottom frame, opportunity\\\\n}\\\\n\"}, {\\'id\\': \\'124822590\\', \\'name\\': \\'Left Exit 12 Off Ramp\\', \\'url\\': \\'https://i.imgflip.com/22bdq6.jpg\\', \\'width\\': 804, \\'height\\': 767, \\'box_count\\': 3, \\'captions\\': 668000, \\'kym_definition\\': \"\\\\nLeft Exit 12 Off Ramp is a series of exploitables in which a car swerving into an off ramp. On the highway sign, the meme\\'s author photoshops something the author disapproves of and something they would prefer. The car swerves toward the preference.\\\\n\", \\'kym_examples\\': \"[\\\\n    {\\\\n        \\'text0\\': \\'A new year filled with opportunities to better myself and make a difference\\', # disapproved option\\\\n        \\'text1\\': \\'Another year shitposting memes on Reddit\\', # approved option car is swerving toward\\\\n        \\'text2\\': \\'Me\\', # car\\\\n    },\\\\n    {\\\\n        \\'text0\\': \\'Using Tide Pods to clean laundry\\', # disapproved option\\\\n        \\'text1\\': \\'Using Tide Pods as fine cuisine\\', # approved option car is swerving toward\\\\n        \\'text2\\': \\'Me\\', # car\\\\n    },    \\\\n]\", \\'imgflip_api_post\\': \"\\\\n{\\\\n    \\'template_id\\':\\'124822590\\',\\\\n    \\'username\\': IMGFLIP_USERNAME,\\\\n    \\'password\\': IMGFLIP_PASSWORD,\\\\n    \\'boxes[0][text]\\': \\'A new year filled with opportunities to better myself and make a difference\\', # disapproved option\\\\n    \\'boxes[1][text]\\': \\'Another year shitposting memes on Reddit\\', # approved option car is swerving toward\\\\n    \\'boxes[2][text]\\': \\'Me\\', # car\\\\n}\\\\n\"}, {\\'id\\': \\'222403160\\', \\'name\\': \\'Bernie I Am Once Again Asking For Your Support\\', \\'url\\': \\'https://i.imgflip.com/3oevdk.jpg\\', \\'width\\': 750, \\'height\\': 750, \\'box_count\\': 2, \\'captions\\': 304000, \\'kym_definition\\': \\'\\\\nI Am Once Again Asking for Your Financial Support is a quote uttered by the United States politician Bernie Sanders in his December 2019 fundraising video. Starting in mid-January 2020, the quote gained popularity as an image macro on Reddit and Facebook, with memes imagining various scenarios in which monetary donations are being requested.\\\\n\\', \\'kym_examples\\': \\'[\\\\n    {\\\\n        \\\\\\'text0\\\\\\': \\\\\\'when you tell people you just want cash for your birthday\\\\\\', # situation, top\\\\n        \\\\\\'text1\\\\\\': \\\\\\'for your financial support\\\\\\', # what is being requested, bottom - below the words \"I am once again asking \"\\\\n    },\\\\n    {\\\\n        \\\\\\'text0\\\\\\': \\\\\\'EA games evert 0.3 seconds\\\\\\', # situation, top\\\\n        \\\\\\'text1\\\\\\': \\\\\\'for your financial support\\\\\\', # what is being requested, bottom - below the words \"I am once again asking \"\\\\n    },    \\\\n]\\', \\'imgflip_api_post\\': \\'\\\\n{\\\\n    \\\\\\'template_id\\\\\\':\\\\\\'222403160\\\\\\',\\\\n    \\\\\\'username\\\\\\': IMGFLIP_USERNAME,\\\\n    \\\\\\'password\\\\\\': IMGFLIP_PASSWORD,\\\\n    \\\\\\'text0\\\\\\': \\\\\\'when you tell people you just want cash for your birthday\\\\\\', # situation, top\\\\n    \\\\\\'text1\\\\\\': \\\\\\'for your financial support\\\\\\', # what is being requested, bottom - below the words \"I am once again asking\"\\\\n}\\\\n\\'}, {\\'id\\': \\'97984\\', \\'name\\': \\'Disaster Girl\\', \\'url\\': \\'https://i.imgflip.com/23ls.jpg\\', \\'width\\': 500, \\'height\\': 375, \\'box_count\\': 2, \\'captions\\': 377000, \\'kym_definition\\': \\'\\\\nDisaster Girl is a photoshop meme in which an exploitable photo of a smiling girl is superimposed on to images of natural disasters and accidents to imply that she has caused some type of calamity depicted in the background.\\\\n\\', \\'kym_examples\\': \"[\\\\n    {\\\\n        \\'text0\\': \\'flu season\\', # the disaster, or the top text\\\\n        \\'text1\\': \\'RFK Jnr\\', # the disaster girl, or the bottom text\\\\n    },\\\\n    {\\\\n        \\'text0\\': \\'you don\\'t have to clean your room\\', # the disaster\\\\n        \\'text1\\': \\'if there is no room\\', # the disaster girl\\\\n    },    \\\\n]\", \\'imgflip_api_post\\': \"\\\\n{\\\\n    \\'template_id\\':\\'97984\\',\\\\n    \\'username\\': IMGFLIP_USERNAME,\\\\n    \\'password\\': IMGFLIP_PASSWORD,\\\\n    \\'text0\\': \\'flu season\\', # the disaster\\\\n    \\'text1\\': \\'RFK Jnr\\', # the disaster girl\\\\n}\\\\n\"}, {\\'id\\': \\'135256802\\', \\'name\\': \\'Epic Handshake\\', \\'url\\': \\'https://i.imgflip.com/28j0te.jpg\\', \\'width\\': 900, \\'height\\': 645, \\'box_count\\': 3, \\'captions\\': 231750, \\'kym_definition\\': \\'\\\\nEpic Handshake, also known as the Predator Handshake, is a memorable scene from the 1987 science fiction action film Predator in which two men greet each other with an arm-wrestle handshake. Due to the campy nature of the scene, it has inspired many parody and remix videos on YouTube, often featuring background music using popular songs from the 1980s. In the 2010s and beyond, a watercolor painting depicting the handshake became a prevalent object-labeling meme format online with captions added to both arms and the hands in the middle, typically to show agreement between two parties on something.\\\\n\\', \\'kym_examples\\': \"[\\\\n    {\\\\n        \\'text0\\': \\'not calling the police\\', # what they agree on\\\\n        \\'text1\\': \\'rap\\', # right arm from left person\\\\n        \\'text2\\': \\'punk\\', # left arm from right person\\\\n    },\\\\n    {\\\\n        \\'text0\\': \\'constantly worrying about drivers\\', # what they agree on\\\\n        \\'text1\\': \\'cyclists\\', # left arm\\\\n        \\'text2\\': \\'linux users\\', # right arm\\\\n    },    \\\\n]\", \\'imgflip_api_post\\': \"\\\\n{\\\\n    \\'template_id\\':\\'135256802\\',\\\\n    \\'username\\': IMGFLIP_USERNAME,\\\\n    \\'password\\': IMGFLIP_PASSWORD,\\\\n    \\'boxes[0][text]\\': \\'not calling the police\\', # what they agree on\\\\n    \\'boxes[1][text]\\': \\'rap\\', # left arm\\\\n    \\'boxes[2][text]\\': \\'punk\\', # right arm\\\\n}\\\\n\"}, {\\'id\\': \\'129242436\\', \\'name\\': \\'Change My Mind\\', \\'url\\': \\'https://i.imgflip.com/24y43o.jpg\\', \\'width\\': 482, \\'height\\': 361, \\'box_count\\': 2, \\'captions\\': 637250, \\'kym_definition\\': \\'\\\\nSteven Crowder\\\\\\'s \"Change My Mind\" Campus Sign is a photograph of American-Canadian conservative podcaster Steven Crowder seated behind a sign that reads \"Male Privilege is a myth / Change My Mind\" outside of Texas Christian University. Since its upload via Crowder\\\\\\'s Twitter account in February 2018, the photograph has been turned into an exploitable template for online parodies.\\\\n\\', \\'kym_examples\\': \"[\\\\n    {\\\\n        \\'text0\\': \\'pluto is not a planet\\', # the proposal, top of the sign\\\\n        \\'text1\\': \\'\\', # on the left of the change my mind text, optional\\\\n    },\\\\n    {\\\\n        \\'text0\\': \\'that CEO was actively murdering people purely for profit\\', # the proposal, top of the sign\\\\n        \\'text1\\': \\'\\', # on the left of the change my mind text, optional\\\\n    },    \\\\n]\", \\'imgflip_api_post\\': \"\\\\n{\\\\n    \\'template_id\\':\\'129242436\\',\\\\n    \\'username\\': IMGFLIP_USERNAME,\\\\n    \\'password\\': IMGFLIP_PASSWORD,\\\\n    \\'text0\\': \\'pluto is not a planet\\', # the proposal, top of the sign\\\\n    \\'text1\\': \\'\\', # on the left of the change my mind text, optional\\\\n}\\\\n\"}]'"
      ]
     },
     "execution_count": 39,
     "metadata": {},
     "output_type": "execute_result"
    }
   ],
   "source": [
    "test_set.iloc[0]['prompt']"
   ]
  },
  {
   "cell_type": "code",
   "execution_count": 44,
   "metadata": {},
   "outputs": [
    {
     "data": {
      "text/plain": [
       "np.float64(0.3333333333333333)"
      ]
     },
     "execution_count": 44,
     "metadata": {},
     "output_type": "execute_result"
    }
   ],
   "source": [
    "# we can potentially fix the json problem through using text processing\n",
    "def clean_response(response: str) -> str:\n",
    "    \"\"\"\n",
    "    Cleans AI response to ensure valid JSON formatting.\n",
    "    Handles edge cases with 'json' prefix and smart quote issues.\n",
    "    \"\"\"\n",
    "    # Remove 'json' prefix and newlines at start\n",
    "    cleaned = response.lstrip('json\\n')\n",
    "    \n",
    "    # Remove markdown code blocks and backticks\n",
    "    cleaned = cleaned.strip('`').replace('```json', '').replace('```', '')\n",
    "    \n",
    "    # Replace various quote types with standard double quotes\n",
    "    cleaned = cleaned.replace('\"', '\"').replace('\"', '\"').replace(\"'\", '\"')\n",
    "    \n",
    "    # Handle escaped quotes inside text strings\n",
    "    cleaned = cleaned.replace('\\\\\"', '\"')\n",
    "\n",
    "    \n",
    "    # Remove any trailing commas before closing braces\n",
    "    cleaned = cleaned.replace(',}', '}')\n",
    "    cleaned = cleaned.replace(',]', ']')\n",
    "    \n",
    "    return cleaned.strip()\n",
    "    \n",
    "test_set['cleaned_response'] = test_set.response.apply(lambda x: clean_response(x))\n",
    "test_set['is_valid_json'] = test_set.cleaned_response.apply(lambda x: is_valid_json(x))\n",
    "test_set['is_valid_json'].sum()/test_set.shape[0]\n"
   ]
  },
  {
   "cell_type": "code",
   "execution_count": 43,
   "metadata": {},
   "outputs": [
    {
     "data": {
      "text/plain": [
       "array(['json\\n{\\n  \"template_id\": \"181913649\",\\n  \"text0\": \"Eating ice cream that\"s slightly melted\",\\n  \"text1\": \"Paying full price for ice cream that\"s rock solid\"\\n}',\n",
       "       '{\\n   \"template_id\": \"181913649\",\\n   \"text0\": \"Eating ice cream that\"s slightly melted\",\\n   \"text1\": \"Paying full price for ice cream that\"s rock solid\"\\n}',\n",
       "       'json\\n{\\n  \"template_id\": \"181913649\",\\n  \"text0\": \"Buying the 5090\",\\n  \"text1\": \"Waiting for Deepseek to be good\"\\n}',\n",
       "       'json\\n{\\n  \"template_id\": \"181913649\",\\n  \"text0\": \"Trying to make a funny meme with AI\",\\n  \"text1\": \"Giving up and making a meme about AI hindering my meme-making process\"\\n}',\n",
       "       'json\\n{\\n  \"template_id\": \"181913649\",\\n  \"text0\": \"Smooth demo\",\\n  \"text1\": \"App crashes spectacularly\"\\n}',\n",
       "       'json\\n{\\n  \"template_id\": \"124822590\",\\n  \"boxes[0][text]\": \"Actually giving a thoughtful answer to \\\\\"Tell me about yourself\\\\\"\",\\n  \"boxes[1][text]\": \"Brain farting and saying \\\\\"uh... I like memes\\\\\"\",\\n  \"boxes[2][text]\": \"Me\"\\n}',\n",
       "       'json\\n{\\n  \"template_id\": \"181913649\",\\n  \"text0\": \"Singing Hamilton accurately\",\\n  \"text1\": \"Singing Hamilton while swinging on monkey bars\"\\n}',\n",
       "       'json\\n{\\n  \"template_id\": \"181913649\",\\n  \"text0\": \"Expected user data\",\\n  \"text1\": \"Actual user data\"\\n}',\n",
       "       '{\\n  \"template_id\": \"181913649\",\\n  \"text0\": \"Dad\"s cooking\",\\n  \"text1\": \"Michelin Star Restaurant\"\\n}',\n",
       "       'json\\n{\\n  \"template_id\": \"181913649\",\\n  \"text0\": \"Spending hours meticulously labeling data\",\\n  \"text1\": \"Just using a pre-labeled dataset\"\\n}'],\n",
       "      dtype=object)"
      ]
     },
     "execution_count": 43,
     "metadata": {},
     "output_type": "execute_result"
    }
   ],
   "source": [
    "test_set[~test_set['is_valid_json']]['cleaned_response'].values"
   ]
  },
  {
   "cell_type": "markdown",
   "metadata": {},
   "source": [
    "##  let's update the system prompt"
   ]
  },
  {
   "cell_type": "code",
   "execution_count": 48,
   "metadata": {},
   "outputs": [],
   "source": [
    "# claude suggests simplifying the system prompt given the low temperature\n",
    "system_prompt = \"\"\"\n",
    "You are a meme expert who generates valid JSON for the imgflip API. \n",
    "\n",
    "The will choose a meme template from the provided context: The context for each meme includes:\n",
    "- kym_definition: How the meme is typically used \n",
    "- kym_examples: Example text placements\n",
    "- box_count: Number of text boxes needed\n",
    "- imgflip_api_post: The exact JSON format to follow\n",
    "\n",
    "Look at each meme's definition and examples to choose one that best fits the user's input in an unexpected way. If you see previous failed attempts, choose a different template and approach.\n",
    "\n",
    "OUTPUT RULES:\n",
    "1. Respond with ONLY a JSON object - no prefixes, no backticks, no markdown\n",
    "2. Use standard double quotes (\") for all strings\n",
    "3. Match your chosen template's imgflip_api_post format exactly, but without the username/password fields\n",
    "\n",
    "Example outputs for different templates:\n",
    "{\n",
    "    \"template_id\": \"87743020\",\n",
    "    \"text0\": \"top text\",\n",
    "    \"text1\": \"bottom text\"\n",
    "}\n",
    "\n",
    "{\n",
    "    \"template_id\": \"124822590\",\n",
    "    \"boxes[0][text]\": \"first text\",\n",
    "    \"boxes[1][text]\": \"second text\",\n",
    "    \"boxes[2][text]\": \"third text\"\n",
    "}\n",
    "\"\"\""
   ]
  },
  {
   "cell_type": "code",
   "execution_count": 49,
   "metadata": {},
   "outputs": [],
   "source": [
    "model = genai.GenerativeModel(\n",
    "    model_name='gemini-1.5-flash',\n",
    "    system_instruction=system_prompt,\n",
    ")"
   ]
  },
  {
   "cell_type": "code",
   "execution_count": 50,
   "metadata": {},
   "outputs": [],
   "source": [
    "import random\n",
    "\n",
    "def construct_meme_prompt(\n",
    "    user_input: str,\n",
    "    meme_context: list,\n",
    "    previous_attempts: list = None\n",
    ") -> str:\n",
    "    \"\"\"\n",
    "    Constructs a prompt for the meme generation model with randomized meme context.\n",
    "    \"\"\"\n",
    "    if not user_input.strip():\n",
    "        raise ValueError(\"user_input must be non-empty\")\n",
    "    if not meme_context:\n",
    "        raise ValueError(\"meme_context must be non-empty\")\n",
    "    \n",
    "    # Shuffle the meme context\n",
    "    shuffled_context = list(meme_context)  # Create a copy\n",
    "    random.shuffle(shuffled_context)\n",
    "    \n",
    "    sections = []\n",
    "    \n",
    "    # Add failed attempts if they exist\n",
    "    if previous_attempts:\n",
    "        failed = [\"PREVIOUS ATTEMPTS (TRY A DIFFERENT TEMPLATE):\", *previous_attempts]\n",
    "        sections.append(\"\\n\".join(failed))\n",
    "    \n",
    "    sections.extend([\n",
    "        f\"USER INPUT: {user_input.strip()}\",\n",
    "        f\"AVAILABLE CONTEXT: {str(shuffled_context)}\"\n",
    "    ])\n",
    "    \n",
    "    return \"\\n\\n\".join(sections)"
   ]
  },
  {
   "cell_type": "code",
   "execution_count": 51,
   "metadata": {},
   "outputs": [],
   "source": [
    "test_set2 = pd.read_excel(\"../data/evals/created_memes.xlsx\",sheet_name=\"test_set\")\n",
    "test_set2['prompt'] = test_set2['input'].apply(lambda x: construct_meme_prompt(x,context)) \n",
    "test_set2['response'] = test_set2.prompt.apply(lambda x: test_completion(x))\n",
    "test_set2['cleaned_response'] = test_set2.response.apply(lambda x: clean_response(x))\n",
    "test_set2['is_valid_json'] = test_set2.cleaned_response.apply(lambda x: is_valid_json(x))\n",
    "test_set2['is_drake'] = test_set2.cleaned_response.apply(lambda x: '181913649' in x)"
   ]
  },
  {
   "cell_type": "code",
   "execution_count": 52,
   "metadata": {},
   "outputs": [
    {
     "name": "stdout",
     "output_type": "stream",
     "text": [
      "0.9333333333333333\n"
     ]
    }
   ],
   "source": [
    "print(test_set2.is_valid_json.sum()/test_set2.shape[0])"
   ]
  },
  {
   "cell_type": "code",
   "execution_count": 53,
   "metadata": {},
   "outputs": [
    {
     "name": "stdout",
     "output_type": "stream",
     "text": [
      "0.26666666666666666\n"
     ]
    }
   ],
   "source": [
    "print(test_set2.is_drake.sum()/test_set2.shape[0])"
   ]
  },
  {
   "cell_type": "markdown",
   "metadata": {},
   "source": [
    "### Decisions\n",
    "- Update system prompt\n",
    "- Update prompt construction\n",
    "- Use pickle not json for context\n",
    "- Deploy and see!"
   ]
  },
  {
   "cell_type": "markdown",
   "metadata": {},
   "source": [
    "# Debugging errors\n",
    "Helped picked up JSON errors"
   ]
  },
  {
   "cell_type": "code",
   "execution_count": 15,
   "metadata": {},
   "outputs": [
    {
     "data": {
      "text/plain": [
       "{'prompt': 'I am trying to demo this app and it is quite flaky i.e. errors quite often',\n",
       " 'error_type': 'RuntimeError',\n",
       " 'error_message': 'Failed after 10 attempts. Last error: Attempt 10 failed: Expecting value: line 1 column 1 (char 0)'}"
      ]
     },
     "execution_count": 15,
     "metadata": {},
     "output_type": "execute_result"
    }
   ],
   "source": [
    "\n",
    "df.sort_values(by=\"timestamp\", ascending=False).head().iloc[0]['data']"
   ]
  },
  {
   "cell_type": "code",
   "execution_count": 6,
   "metadata": {},
   "outputs": [
    {
     "data": {
      "text/plain": [
       "event_id                   d17555ad-f8e0-4759-b920-38878f323357\n",
       "timestamp                      2025-01-30 02:05:21.262870+00:00\n",
       "session_id                 fca15b75-dca1-4cad-9dba-78dbd15e34e3\n",
       "type                                                      error\n",
       "data          {'prompt': 'I want to make a funny meme and am...\n",
       "metadata      {'environment': 'development', 'timestamp_utc'...\n",
       "Name: 34, dtype: object"
      ]
     },
     "execution_count": 6,
     "metadata": {},
     "output_type": "execute_result"
    }
   ],
   "source": [
    "df.sort_values(by=\"timestamp\", ascending=False).head(10).iloc[5]"
   ]
  },
  {
   "cell_type": "code",
   "execution_count": 7,
   "metadata": {},
   "outputs": [
    {
     "data": {
      "text/plain": [
       "{'prompt': 'I want to make a funny meme and am using AI as a crutch',\n",
       " 'error_type': 'RuntimeError',\n",
       " 'error_message': 'Failed after 5 attempts. Last error: Attempt 5 failed: Expecting value: line 1 column 1 (char 0)'}"
      ]
     },
     "execution_count": 7,
     "metadata": {},
     "output_type": "execute_result"
    }
   ],
   "source": [
    "df.sort_values(by=\"timestamp\", ascending=False).head(10).iloc[5]['data']"
   ]
  },
  {
   "cell_type": "code",
   "execution_count": 9,
   "metadata": {},
   "outputs": [
    {
     "data": {
      "text/plain": [
       "{'prompt': 'Ice cream is too cold and expensive. Grandpa yells at cloud.',\n",
       " 'image_url': 'https://i.imgflip.com/9ifa2x.jpg',\n",
       " 'template_id': '181913649'}"
      ]
     },
     "execution_count": 9,
     "metadata": {},
     "output_type": "execute_result"
    }
   ],
   "source": [
    "df.sort_values(by=\"timestamp\", ascending=False).head(10).iloc[0]['data']"
   ]
  }
 ],
 "metadata": {
  "kernelspec": {
   "display_name": ".venv",
   "language": "python",
   "name": "python3"
  },
  "language_info": {
   "codemirror_mode": {
    "name": "ipython",
    "version": 3
   },
   "file_extension": ".py",
   "mimetype": "text/x-python",
   "name": "python",
   "nbconvert_exporter": "python",
   "pygments_lexer": "ipython3",
   "version": "3.11.11"
  }
 },
 "nbformat": 4,
 "nbformat_minor": 2
}
