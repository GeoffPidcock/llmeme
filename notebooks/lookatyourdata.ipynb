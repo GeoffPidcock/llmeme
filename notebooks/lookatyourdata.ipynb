{
 "cells": [
  {
   "cell_type": "code",
   "execution_count": 1,
   "metadata": {},
   "outputs": [],
   "source": [
    "import os\n",
    "import pandas as pd\n",
    "from sqlalchemy import create_engine\n",
    "from datetime import datetime\n",
    "from dotenv import load_dotenv\n",
    "\n",
    "# Load environment variables from both .env and shell\n",
    "load_dotenv()  # This adds .env variables to os.environ\n",
    "\n",
    "def create_engine_with_params(db_params: dict) -> create_engine:\n",
    "    \"\"\"Create SQLAlchemy engine using database parameters.\"\"\"\n",
    "    url = f\"postgresql://{db_params['user']}:{db_params['password']}@{db_params['host']}:{db_params['port']}/{db_params['dbname']}\"\n",
    "    return create_engine(url)\n",
    "\n"
   ]
  },
  {
   "cell_type": "code",
   "execution_count": 13,
   "metadata": {},
   "outputs": [
    {
     "data": {
      "text/html": [
       "<div>\n",
       "<style scoped>\n",
       "    .dataframe tbody tr th:only-of-type {\n",
       "        vertical-align: middle;\n",
       "    }\n",
       "\n",
       "    .dataframe tbody tr th {\n",
       "        vertical-align: top;\n",
       "    }\n",
       "\n",
       "    .dataframe thead th {\n",
       "        text-align: right;\n",
       "    }\n",
       "</style>\n",
       "<table border=\"1\" class=\"dataframe\">\n",
       "  <thead>\n",
       "    <tr style=\"text-align: right;\">\n",
       "      <th></th>\n",
       "      <th>event_id</th>\n",
       "      <th>timestamp</th>\n",
       "      <th>session_id</th>\n",
       "      <th>type</th>\n",
       "      <th>data</th>\n",
       "      <th>metadata</th>\n",
       "    </tr>\n",
       "  </thead>\n",
       "  <tbody>\n",
       "    <tr>\n",
       "      <th>43</th>\n",
       "      <td>fad48502-7837-427f-a583-09964c3842dc</td>\n",
       "      <td>2025-01-30 02:29:05.491132+00:00</td>\n",
       "      <td>cc343458-96a4-4ec9-9175-90955b6605b6</td>\n",
       "      <td>error</td>\n",
       "      <td>{'prompt': 'I am trying to demo this app and i...</td>\n",
       "      <td>{'environment': 'development', 'timestamp_utc'...</td>\n",
       "    </tr>\n",
       "    <tr>\n",
       "      <th>42</th>\n",
       "      <td>7f9ce29b-f1f0-4b38-a80d-0e9625808eb5</td>\n",
       "      <td>2025-01-30 02:26:43.726792+00:00</td>\n",
       "      <td>cc343458-96a4-4ec9-9175-90955b6605b6</td>\n",
       "      <td>error</td>\n",
       "      <td>{'prompt': 'I am trying to demo this app and i...</td>\n",
       "      <td>{'environment': 'development', 'timestamp_utc'...</td>\n",
       "    </tr>\n",
       "    <tr>\n",
       "      <th>41</th>\n",
       "      <td>3aa20700-f350-4ff2-bcde-43e494c21067</td>\n",
       "      <td>2025-01-30 02:20:18.934042+00:00</td>\n",
       "      <td>acd137c3-1c4c-4223-8c46-3a672b4f1c4f</td>\n",
       "      <td>error</td>\n",
       "      <td>{'prompt': 'Surprise me, don't use drake\n",
       "', 'e...</td>\n",
       "      <td>{'environment': 'development', 'timestamp_utc'...</td>\n",
       "    </tr>\n",
       "    <tr>\n",
       "      <th>40</th>\n",
       "      <td>d11794f1-a138-40ea-98ef-0590876b3616</td>\n",
       "      <td>2025-01-30 02:19:59.794155+00:00</td>\n",
       "      <td>acd137c3-1c4c-4223-8c46-3a672b4f1c4f</td>\n",
       "      <td>error</td>\n",
       "      <td>{'prompt': 'I want to make a funny meme and am...</td>\n",
       "      <td>{'environment': 'development', 'timestamp_utc'...</td>\n",
       "    </tr>\n",
       "    <tr>\n",
       "      <th>39</th>\n",
       "      <td>be68e4f6-ae42-401c-a7f2-87541be9df33</td>\n",
       "      <td>2025-01-30 02:11:48.737401+00:00</td>\n",
       "      <td>09b437e2-0306-4d56-96b7-2e4362786083</td>\n",
       "      <td>meme_created</td>\n",
       "      <td>{'prompt': 'Ice cream is too cold and expensiv...</td>\n",
       "      <td>{'environment': 'development', 'timestamp_utc'...</td>\n",
       "    </tr>\n",
       "  </tbody>\n",
       "</table>\n",
       "</div>"
      ],
      "text/plain": [
       "                                event_id                        timestamp  \\\n",
       "43  fad48502-7837-427f-a583-09964c3842dc 2025-01-30 02:29:05.491132+00:00   \n",
       "42  7f9ce29b-f1f0-4b38-a80d-0e9625808eb5 2025-01-30 02:26:43.726792+00:00   \n",
       "41  3aa20700-f350-4ff2-bcde-43e494c21067 2025-01-30 02:20:18.934042+00:00   \n",
       "40  d11794f1-a138-40ea-98ef-0590876b3616 2025-01-30 02:19:59.794155+00:00   \n",
       "39  be68e4f6-ae42-401c-a7f2-87541be9df33 2025-01-30 02:11:48.737401+00:00   \n",
       "\n",
       "                              session_id          type  \\\n",
       "43  cc343458-96a4-4ec9-9175-90955b6605b6         error   \n",
       "42  cc343458-96a4-4ec9-9175-90955b6605b6         error   \n",
       "41  acd137c3-1c4c-4223-8c46-3a672b4f1c4f         error   \n",
       "40  acd137c3-1c4c-4223-8c46-3a672b4f1c4f         error   \n",
       "39  09b437e2-0306-4d56-96b7-2e4362786083  meme_created   \n",
       "\n",
       "                                                 data  \\\n",
       "43  {'prompt': 'I am trying to demo this app and i...   \n",
       "42  {'prompt': 'I am trying to demo this app and i...   \n",
       "41  {'prompt': 'Surprise me, don't use drake\n",
       "', 'e...   \n",
       "40  {'prompt': 'I want to make a funny meme and am...   \n",
       "39  {'prompt': 'Ice cream is too cold and expensiv...   \n",
       "\n",
       "                                             metadata  \n",
       "43  {'environment': 'development', 'timestamp_utc'...  \n",
       "42  {'environment': 'development', 'timestamp_utc'...  \n",
       "41  {'environment': 'development', 'timestamp_utc'...  \n",
       "40  {'environment': 'development', 'timestamp_utc'...  \n",
       "39  {'environment': 'development', 'timestamp_utc'...  "
      ]
     },
     "execution_count": 13,
     "metadata": {},
     "output_type": "execute_result"
    }
   ],
   "source": [
    "db_params = {\n",
    "    \"dbname\": \"postgres\",  # Replace with your database name\n",
    "    \"user\": os.getenv(\"DB_USER\"),\n",
    "    \"password\": os.getenv(\"DB_PASSWORD\"),\n",
    "    \"host\": os.getenv(\"DB_HOST\"),\n",
    "    \"port\": \"5432\"  # Default port for PostgreSQL\n",
    "}\n",
    "\n",
    "engine = create_engine_with_params(db_params)\n",
    "\n",
    "df = pd.read_sql_query(\"SELECT * FROM events\", con=engine)\n",
    "df.sort_values(by=\"timestamp\", ascending=False).head()"
   ]
  },
  {
   "cell_type": "code",
   "execution_count": 15,
   "metadata": {},
   "outputs": [
    {
     "data": {
      "text/plain": [
       "{'prompt': 'I am trying to demo this app and it is quite flaky i.e. errors quite often',\n",
       " 'error_type': 'RuntimeError',\n",
       " 'error_message': 'Failed after 10 attempts. Last error: Attempt 10 failed: Expecting value: line 1 column 1 (char 0)'}"
      ]
     },
     "execution_count": 15,
     "metadata": {},
     "output_type": "execute_result"
    }
   ],
   "source": [
    "df.sort_values(by=\"timestamp\", ascending=False).head().iloc[0]['data']"
   ]
  },
  {
   "cell_type": "code",
   "execution_count": 6,
   "metadata": {},
   "outputs": [
    {
     "data": {
      "text/plain": [
       "event_id                   d17555ad-f8e0-4759-b920-38878f323357\n",
       "timestamp                      2025-01-30 02:05:21.262870+00:00\n",
       "session_id                 fca15b75-dca1-4cad-9dba-78dbd15e34e3\n",
       "type                                                      error\n",
       "data          {'prompt': 'I want to make a funny meme and am...\n",
       "metadata      {'environment': 'development', 'timestamp_utc'...\n",
       "Name: 34, dtype: object"
      ]
     },
     "execution_count": 6,
     "metadata": {},
     "output_type": "execute_result"
    }
   ],
   "source": [
    "df.sort_values(by=\"timestamp\", ascending=False).head(10).iloc[5]"
   ]
  },
  {
   "cell_type": "code",
   "execution_count": 7,
   "metadata": {},
   "outputs": [
    {
     "data": {
      "text/plain": [
       "{'prompt': 'I want to make a funny meme and am using AI as a crutch',\n",
       " 'error_type': 'RuntimeError',\n",
       " 'error_message': 'Failed after 5 attempts. Last error: Attempt 5 failed: Expecting value: line 1 column 1 (char 0)'}"
      ]
     },
     "execution_count": 7,
     "metadata": {},
     "output_type": "execute_result"
    }
   ],
   "source": [
    "df.sort_values(by=\"timestamp\", ascending=False).head(10).iloc[5]['data']"
   ]
  },
  {
   "cell_type": "code",
   "execution_count": 9,
   "metadata": {},
   "outputs": [
    {
     "data": {
      "text/plain": [
       "{'prompt': 'Ice cream is too cold and expensive. Grandpa yells at cloud.',\n",
       " 'image_url': 'https://i.imgflip.com/9ifa2x.jpg',\n",
       " 'template_id': '181913649'}"
      ]
     },
     "execution_count": 9,
     "metadata": {},
     "output_type": "execute_result"
    }
   ],
   "source": [
    "df.sort_values(by=\"timestamp\", ascending=False).head(10).iloc[0]['data']"
   ]
  }
 ],
 "metadata": {
  "kernelspec": {
   "display_name": ".venv",
   "language": "python",
   "name": "python3"
  },
  "language_info": {
   "codemirror_mode": {
    "name": "ipython",
    "version": 3
   },
   "file_extension": ".py",
   "mimetype": "text/x-python",
   "name": "python",
   "nbconvert_exporter": "python",
   "pygments_lexer": "ipython3",
   "version": "3.11.11"
  }
 },
 "nbformat": 4,
 "nbformat_minor": 2
}
